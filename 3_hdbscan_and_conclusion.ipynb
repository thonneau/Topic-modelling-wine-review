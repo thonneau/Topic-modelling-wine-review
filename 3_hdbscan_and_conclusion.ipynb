{
  "nbformat": 4,
  "nbformat_minor": 0,
  "metadata": {
    "kernelspec": {
      "display_name": "Python 3",
      "language": "python",
      "name": "python3"
    },
    "language_info": {
      "codemirror_mode": {
        "name": "ipython",
        "version": 3
      },
      "file_extension": ".py",
      "mimetype": "text/x-python",
      "name": "python",
      "nbconvert_exporter": "python",
      "pygments_lexer": "ipython3",
      "version": "3.7.1"
    },
    "colab": {
      "name": "3_hdbscan_and_conclusion.ipynb",
      "provenance": [],
      "collapsed_sections": []
    }
  },
  "cells": [
    {
      "cell_type": "code",
      "metadata": {
        "id": "bF3dqXwX5nKf",
        "outputId": "069aaf71-ac13-4e4a-c85f-56f1e3bdf01b"
      },
      "source": [
        "import pandas as pd\n",
        "import gensim\n",
        "from gensim.utils import simple_preprocess\n",
        "from gensim.parsing.preprocessing import STOPWORDS\n",
        "from nltk.stem import WordNetLemmatizer, SnowballStemmer\n",
        "from nltk.stem.porter import *\n",
        "from gensim import corpora, models, similarities\n",
        "import numpy as np\n",
        "from wordcloud import WordCloud\n",
        "np.random.seed(2020)\n",
        "\n",
        "import nltk\n",
        "nltk.download('wordnet')  #Natural Language Toolkit : boîte-à-outil permettant la création de programmes pour l'analyse de texte\n",
        "\n",
        "stemmer = SnowballStemmer('english') #Create a new instance of a language specific subclass\n",
        "\n",
        "import sklearn\n",
        "from sklearn.metrics import pairwise_distances\n",
        "import hdbscan\n",
        "import seaborn as sns\n",
        "\n",
        "from gensim.models import word2vec\n",
        "import matplotlib.pyplot as plt"
      ],
      "execution_count": null,
      "outputs": [
        {
          "output_type": "stream",
          "text": [
            "[nltk_data] Downloading package wordnet to\n",
            "[nltk_data]     C:\\Users\\Admin\\AppData\\Roaming\\nltk_data...\n",
            "[nltk_data]   Package wordnet is already up-to-date!\n"
          ],
          "name": "stderr"
        }
      ]
    },
    {
      "cell_type": "code",
      "metadata": {
        "id": "yerL_k9E5nKh"
      },
      "source": [
        "df=pd.read_csv('C:\\\\Users\\\\Admin\\\\Documents\\\\Big Data & marketing\\\\archive\\\\winemag-data_first150k.csv')\n",
        "df2=df['description']\n",
        "df2=df2.sample(n=30000)"
      ],
      "execution_count": null,
      "outputs": []
    },
    {
      "cell_type": "code",
      "metadata": {
        "id": "v1gTVbFX5nKh"
      },
      "source": [
        "#List comprehension\n",
        "processed_description = [[stemmer.stem(WordNetLemmatizer().lemmatize(token, pos='v')) for token in simple_preprocess(description) if token not in STOPWORDS] for description in df2]"
      ],
      "execution_count": null,
      "outputs": []
    },
    {
      "cell_type": "markdown",
      "metadata": {
        "id": "Z0wfS7Ly5nKi"
      },
      "source": [
        "## CLUSTERING"
      ]
    },
    {
      "cell_type": "markdown",
      "metadata": {
        "id": "z21qcwtZ5nKi"
      },
      "source": [
        "### HDBSCAN (Hierarchical Density-Based Spatial Clustering of Applications with Noise) : is a clustering algorithm "
      ]
    },
    {
      "cell_type": "markdown",
      "metadata": {
        "id": "k94XRNF85nKi"
      },
      "source": [
        "Here, there is no assumptions except for some noise. HDBSCAN uses a density-based approach and it's a non-parametric method that looks for a cluster hierarchy shaped.  Rather than looking for clusters with a particular shape, it looks for regions of the data that are denser than the surrounding space."
      ]
    },
    {
      "cell_type": "markdown",
      "metadata": {
        "id": "In_v6BzZ5nKj"
      },
      "source": [
        "The underlying distribution is almost always unknown for real-world data estimate the PDF.\n",
        "\n",
        "2 ways : \n",
        "- Counting the number of neighbors of a particular point within its 𝜀-radius (hypersphere around the point and count the number of points within it)\n",
        "- Finding the distance to the K-th nearest neighbor. We determine the number of neighbors we want and find the smallest value of 𝜀 that would contain these K neighbors. Which is what HDBSCAN uses."
      ]
    },
    {
      "cell_type": "markdown",
      "metadata": {
        "id": "omISdJHa5nKj"
      },
      "source": [
        "This distances are called 'core' distances in HDBSCAN. Points with smaller core distances are in denser regions and would have a high estimate for the PDF. Points with larger core distances are in sparser regions because we have to travel larger distances to include enough neighbors. "
      ]
    },
    {
      "cell_type": "markdown",
      "metadata": {
        "id": "oo0bQO4s5nKj"
      },
      "source": [
        "The hyperparameter K is referred to as min_samples in the HDBSCAN. If K is too low then we have lots of noise. If K is too high it smoothen the PDF too much. The larger the value of min_samples you provide, the more conservative the clustering – more points will be declared as noise. \n"
      ]
    },
    {
      "cell_type": "markdown",
      "metadata": {
        "id": "TczHj5ji5nKk"
      },
      "source": [
        "Important to use min_cluster_size. Distribution graphs may show peaks and bumps. min_cluster_size dictates the maximum size of a “bump” before it is considered a peak. An issue can appear if little bumps are interpreted as mini-clusters. Without removing the bumps, the main clusters may not be seen. The solution is to flatten these small bumps. Main clusters will no longer be distracted by the small bumps"
      ]
    },
    {
      "cell_type": "markdown",
      "metadata": {
        "id": "1URILYjr5nKk"
      },
      "source": [
        "First step is to vectorize words so that they can be represented in a graph"
      ]
    },
    {
      "cell_type": "markdown",
      "metadata": {
        "id": "HUnoPDgj5nKk"
      },
      "source": [
        "### First do Word2Vec"
      ]
    },
    {
      "cell_type": "code",
      "metadata": {
        "id": "k33mHuqT5nKl"
      },
      "source": [
        "model = word2vec.Word2Vec(processed_description, size=300, window=20, min_count=2, workers=1, iter=100)"
      ],
      "execution_count": null,
      "outputs": []
    },
    {
      "cell_type": "code",
      "metadata": {
        "id": "r9hnD0545nKl",
        "outputId": "0597722a-7028-4455-e5c0-2b2c32b41408"
      },
      "source": [
        "# 10 first vectors coordinates associated to the word 'banana'\n",
        "model.wv['banana'][:10]"
      ],
      "execution_count": null,
      "outputs": [
        {
          "output_type": "execute_result",
          "data": {
            "text/plain": [
              "array([-1.9126035 , -3.7639444 ,  2.6916788 , -1.628046  , -0.20538172,\n",
              "       -2.874452  , -1.54879   ,  0.40231127, -3.0689895 ,  0.08890978],\n",
              "      dtype=float32)"
            ]
          },
          "metadata": {
            "tags": []
          },
          "execution_count": 8
        }
      ]
    },
    {
      "cell_type": "code",
      "metadata": {
        "id": "XtXB8Jjg5nKl"
      },
      "source": [
        "w2v_vectors = model.wv.vectors"
      ],
      "execution_count": null,
      "outputs": []
    },
    {
      "cell_type": "code",
      "metadata": {
        "id": "gb3FhKjO5nKl"
      },
      "source": [
        "w2v_indices = {word: model.wv.vocab[word].index for word in model.wv.vocab} # here you load indices - with whom you can find an index of the particular word in your model "
      ],
      "execution_count": null,
      "outputs": []
    },
    {
      "cell_type": "markdown",
      "metadata": {
        "id": "mhVAVw5i5nKl"
      },
      "source": [
        "### Use the hierarchical density-based clustering method\n"
      ]
    },
    {
      "cell_type": "code",
      "metadata": {
        "id": "VMheMh2H5nKm",
        "outputId": "6d050dcc-f3f5-411f-8da9-f3a12a6803be"
      },
      "source": [
        "clusterer = hdbscan.HDBSCAN(min_cluster_size = 5, min_samples = 10, gen_min_span_tree=True, cluster_selection_method = 'leaf')\n",
        "clusterer.fit(w2v_vectors)"
      ],
      "execution_count": null,
      "outputs": [
        {
          "output_type": "stream",
          "text": [
            "C:\\Users\\Admin\\anaconda3\\envs\\PythonCPU\\lib\\site-packages\\hdbscan\\hdbscan_.py:219: UserWarning: Cannot generate Minimum Spanning Tree; the implemented Prim's does not produce the full minimum spanning tree \n",
            "  'the full minimum spanning tree ', UserWarning)\n"
          ],
          "name": "stderr"
        },
        {
          "output_type": "execute_result",
          "data": {
            "text/plain": [
              "HDBSCAN(cluster_selection_method='leaf', gen_min_span_tree=True, min_samples=10)"
            ]
          },
          "metadata": {
            "tags": []
          },
          "execution_count": 48
        }
      ]
    },
    {
      "cell_type": "code",
      "metadata": {
        "scrolled": true,
        "id": "jP5hxyiW5nKm",
        "outputId": "37d6a927-9369-4ed6-e844-090ab65aa49c"
      },
      "source": [
        "pal = sns.color_palette('deep', 8)\n",
        "colors = [sns.desaturate(pal[col], sat) for col, sat in zip(clusterer.labels_,\n",
        "                                                           clusterer.probabilities_)]\n",
        "plt.scatter(w2v_vectors.T[0], w2v_vectors.T[1], c=colors, s=1.8)"
      ],
      "execution_count": null,
      "outputs": [
        {
          "output_type": "execute_result",
          "data": {
            "text/plain": [
              "<matplotlib.collections.PathCollection at 0x1f46b663f60>"
            ]
          },
          "metadata": {
            "tags": []
          },
          "execution_count": 49
        },
        {
          "output_type": "display_data",
          "data": {
            "image/png": "[encoded data removed]",
            "text/plain": [
              "<Figure size 432x288 with 1 Axes>"
            ]
          },
          "metadata": {
            "tags": [],
            "needs_background": "light"
          }
        }
      ]
    },
    {
      "cell_type": "code",
      "metadata": {
        "id": "wG6yW7VJ5nKm",
        "outputId": "ba66da49-9298-4b39-fda9-093cd2c07e48"
      },
      "source": [
        "clusterer.condensed_tree_.plot()"
      ],
      "execution_count": null,
      "outputs": [
        {
          "output_type": "execute_result",
          "data": {
            "text/plain": [
              "<AxesSubplot:ylabel='$\\\\lambda$ value'>"
            ]
          },
          "metadata": {
            "tags": []
          },
          "execution_count": 50
        },
        {
          "output_type": "display_data",
          "data": {
            "image/png": "[encoded data removed]",
            "text/plain": [
              "<Figure size 432x288 with 2 Axes>"
            ]
          },
          "metadata": {
            "tags": [],
            "needs_background": "light"
          }
        }
      ]
    },
    {
      "cell_type": "markdown",
      "metadata": {
        "id": "go9mYJqa5nKm"
      },
      "source": [
        "As we can see the clustering is not very relevant, as it can not clearly identify clusters based on the density."
      ]
    },
    {
      "cell_type": "markdown",
      "metadata": {
        "id": "E59rBzD25nKn"
      },
      "source": [
        "## Marketing insights"
      ]
    },
    {
      "cell_type": "markdown",
      "metadata": {
        "id": "HBht4E3X5nKn"
      },
      "source": [
        "These kind of analysis on reviews can provide some leads from a marketing standpoint. First, we can consider an online wine shop that uses the magazine’s reviews in order to analyse its market and target clients. By doing clusters the goal is to use client’s preferences to do personalized suggestions. \n",
        "\n",
        "Given the client’s favourite wines or his activity on the website, the online shop could target its ads, its email campaign and even the order in which the products are displayed, depending on the cluster in which the customer's favourite wine is or the wine he clicked on. \n",
        "\n",
        "For instance, the first TF-IDF cluster probably groups white wines, some chardonnay grape variety, some dry white wine and with a predominance of a citrus and peach aroma, if a client really likes a wine with chardonnay grape variety or citrus aroma, the website could suggest wines that share similarities. \n",
        "\n",
        "To conclude, there are advantages and disadvantages in each method. In clustering method groups can be too big and in LDA only half are relevant. Unlike Clustering method, LDA is a probabilistic method but needs more computational power. LDA needs a large volume of data whereas clustering does not. LDA does not keep sentence structure, Clustering is sensitive to corpus and it is hard to name topics unlike LDA method. \n",
        "\n",
        "Moreover, in LDA we need to create and combine a dictionary for english and for french if have 2 languages which is hard to do. Finally, we think that we could refine our stopword list since we saw recurrent wine vocabulary in each subgroup."
      ]
    }
  ]
}